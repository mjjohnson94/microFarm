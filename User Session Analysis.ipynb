{
 "cells": [
  {
   "cell_type": "code",
   "execution_count": 14,
   "metadata": {},
   "outputs": [],
   "source": [
    "## Import dependencies - pyscopg2 is a Python-PostgreSQL database adapter \n",
    "\n",
    "import psycopg2\n",
    "import pandas as pd"
   ]
  },
  {
   "cell_type": "code",
   "execution_count": 15,
   "metadata": {},
   "outputs": [],
   "source": [
    "# Establish connection to PostgreSQL database \n",
    "\n",
    "conn = psycopg2.connect(\n",
    "    host=\"localhost\",\n",
    "    database=\"user_session\",\n",
    "    user=\"postgres\",\n",
    "    password=\"AAA009wn73ed\")\n",
    "\n",
    "conn.autocommit = True"
   ]
  },
  {
   "cell_type": "code",
   "execution_count": 16,
   "metadata": {},
   "outputs": [],
   "source": [
    "# The curosor class allows Python code to execute PostgreSQL commands in a database session\n",
    "\n",
    "cursor = conn.cursor()"
   ]
  },
  {
   "cell_type": "code",
   "execution_count": 26,
   "metadata": {},
   "outputs": [],
   "source": [
    "# Create SQL query to select all data from an existing PostgreSQL table within the user_session database\n",
    "\n",
    "selectQuery = ('''SELECT * FROM customer_session_data''')\n",
    "\n",
    "# Execute the database operation through cursor.execute \n",
    "\n",
    "cursor.execute(selectQuery)\n",
    "\n",
    "# cursor.fetchall returns all the records within the table, assign results to DataFrame \n",
    "\n",
    "userSession_Data =  pd.DataFrame(cursor.fetchall())"
   ]
  },
  {
   "cell_type": "code",
   "execution_count": null,
   "metadata": {},
   "outputs": [],
   "source": []
  }
 ],
 "metadata": {
  "kernelspec": {
   "display_name": "Python 3",
   "language": "python",
   "name": "python3"
  },
  "language_info": {
   "codemirror_mode": {
    "name": "ipython",
    "version": 3
   },
   "file_extension": ".py",
   "mimetype": "text/x-python",
   "name": "python",
   "nbconvert_exporter": "python",
   "pygments_lexer": "ipython3",
   "version": "3.8.5"
  }
 },
 "nbformat": 4,
 "nbformat_minor": 4
}
